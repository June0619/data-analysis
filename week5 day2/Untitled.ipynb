{
 "cells": [
  {
   "cell_type": "markdown",
   "metadata": {},
   "source": [
    "### Bar chart (막대 그래프)\n",
    "\n",
    "- 여러 값의 상대적인 크기를 비교하기에 적합한 표현법이며 원형 차트보다 더욱 일반적으로 사용됨\n",
    "- plt.bar(x, y)\n",
    "    - x 데이터가 카테고리 값인 경우에는 bar, barh 로 바 차트 시각화 표현\n",
    "    - 가로 방향으로 바 차트를 그리려면 barh \n",
    "    - barh 차트 주의점 : x축이 일반적으로 y축의 위치를 의미"
   ]
  },
  {
   "cell_type": "code",
   "execution_count": 9,
   "metadata": {},
   "outputs": [],
   "source": [
    "import matplotlib\n",
    "import pandas as pd\n",
    "import numpy as np\n",
    "import matplotlib.pyplot as plt   # cmd : pip install matplotlib"
   ]
  },
  {
   "cell_type": "code",
   "execution_count": 10,
   "metadata": {},
   "outputs": [],
   "source": [
    "# plot에서 한글 폰트 설정(안 하면 한글이 깨져서 나옴)\n",
    "font_name=matplotlib.font_manager.FontProperties(\n",
    "    fname='C:/Windows/Fonts/malgun.ttf').get_name()\n",
    "matplotlib.rc('font', family = font_name)"
   ]
  },
  {
   "cell_type": "markdown",
   "metadata": {},
   "source": [
    "### Pie chart\n",
    "\n",
    "- 전체 데이터에서 각 부분이 차지하는 비율을 시각적으로 이해하기 쉽게 표현\n",
    "- plt.pie(ratio, labels=, colors=, autopct=, shadow=T/F)\n",
    "    - ratio : 각 라벨의 비율\n",
    "    - label : 데이터의 카테고리명\n",
    "    - color : 라벨별 색상\n",
    "    - autopct : 비율 출력 포맷\n",
    "    - shadow : 음영 지정\n",
    "    "
   ]
  },
  {
   "cell_type": "code",
   "execution_count": 13,
   "metadata": {},
   "outputs": [
    {
     "data": {
      "image/png": "[encoded data removed]",
      "text/plain": [
       "<Figure size 432x288 with 1 Axes>"
      ]
     },
     "metadata": {},
     "output_type": "display_data"
    }
   ],
   "source": [
    "# 라벨 : 소고기, 돼지고기, 닭고기, 오리고기\n",
    "# 값 : 20, 35, 24, 13\n",
    "# 색상 : yellowgreen, gold, lightskyblue, lightcoral\n",
    "plt.pie([15,30,45,10], labels=['소고기','돼지고기','닭고기','오리고기'],\n",
    "        colors=['yellowgreen','gold','lightskyblue','lightcoral'],\n",
    "       autopct='%0.1f%%', shadow=True)\n",
    "plt.axis('equal') #원의 형태 설정\n",
    "plt.show()"
   ]
  },
  {
   "cell_type": "markdown",
   "metadata": {},
   "source": [
    "### histogram(히스토그램)\n",
    "\n",
    "- 데이터 분포의 특징, 이상치 여부를 확인하는데 용이\n",
    "    - 데이터의 분포 \n",
    "        - 데이터 값의 전반적으로 퍼져있는 형태\n",
    "        - 데이터의 수가 많을 때 데이터를 파악하기 위해 어떤 값 근처에 어떤 모양으로 모여 있는지 이해하기 쉬움\n",
    "- 데이터에 이상치가 존재하는 경우 비정상적인 히스토그램이 생성되며 이상치를 제거해주는 작업이 필요\n",
    "    - 예) 전반적인 데이터 분포가 0 ~ 1 사이에 있는데 한 개의 데이터가 100인 경우 정상적인 히스토그램이 그려지지 않음.\n",
    "\n",
    "- 히스토그램\n",
    "    - 자료 값이 가질 수 있는 범위를 몇 개의 구간으로 나누고 각 구간에 해당하는 값의 숫자 혹은 상대적 빈도를 계산하여 시각화\n",
    "    - plt.hist(data, bins)\n",
    "        - 일반적인 경우 히스토그램의 구간을 나눌 때 동일한 간격으로 나누기 때문에 구간(bins)의 개수가 중요\n",
    "        - bins\n",
    "            - 히스토그램 구간 수를 나타내는 값\n",
    "            - 구간 수가 너무 작으면(=간격이 너무 넓으면) 세부 분포 파악이 어렵고, 구간 수가 너무 많으면 전체적인 분포 파악이 어려움"
   ]
  },
  {
   "cell_type": "code",
   "execution_count": 22,
   "metadata": {},
   "outputs": [
    {
     "data": {
      "image/png": "[encoded data removed]",
      "text/plain": [
       "<Figure size 432x288 with 1 Axes>"
      ]
     },
     "metadata": {
      "needs_background": "light"
     },
     "output_type": "display_data"
    }
   ],
   "source": [
    "# 정규분포에서 무작위로 데이터 1000개 데이터 추출\n",
    "np.random.seed(200)\n",
    "x = np.random.randn(1000)\n",
    "plt.hist(x, bins=20)\n",
    "plt.show()"
   ]
  },
  {
   "cell_type": "markdown",
   "metadata": {},
   "source": [
    "### Box-plot\n",
    "- box-and-whisker plot\n",
    "- 최댓값, 최솟값, 사분위수(Q1, Q2, Q3)를 사용하여 자료의 측정값들의 분포와 극단값에 대해 파악\n",
    "    - IQR(Inter Quartile Range) : Q3 - Q1\n",
    "    - 최대값 : Q1 + 1.5 x IQR 범위 안에 있는 최대값\n",
    "    - 최소값 : Q3 - 1.5 x IQR 범위 안에 있는 최대값\n",
    "    - 박스(Box) : Q1 ~ Q3의 값\n",
    "    - n개의 데이터가 있을 때 사분위수\n",
    "        - 중앙값(Q2) : (n + 1) / 2\n",
    "        - 사분위수\n",
    "            - 집한 자료를 크기순으로 나열하여 사등분하는 척도\n",
    "            - (Q2 + 1) / 2를 기준으로 작은 쪽에서 해당 위치에 있는 수를 아래사분위수(Q1), 큰 쪽에 위치한 수를 위사분위수(Q2=n+1-값)\n",
    "            - 데이터 개수가 홀수일 때는 앞뒤 값의 평균을 사용\n",
    "- 두 개 이상의 자료 집단을 비교할 때 유용\n",
    "- 해당 범위에 벗어나는 값은 이상치로 판정하여 표기"
   ]
  },
  {
   "cell_type": "code",
   "execution_count": 24,
   "metadata": {},
   "outputs": [],
   "source": [
    "# 평균 70, 표준편차 25인 정규분포에서 200개의 표본 추출\n",
    "data = np.random.normal(70, 25, 200)"
   ]
  },
  {
   "cell_type": "code",
   "execution_count": 30,
   "metadata": {},
   "outputs": [
    {
     "data": {
      "text/plain": [
       "(array([ 1.,  0.,  2.,  1.,  0.,  2.,  1.,  1.,  7., 13.,  8.,  9.,  7.,\n",
       "        16., 18., 18., 18., 15.,  9.,  6., 13., 10.,  9.,  7.,  5.,  1.,\n",
       "         0.,  2.,  0.,  1.]),\n",
       " array([ -5.19582939,  -0.44912406,   4.29758128,   9.04428661,\n",
       "         13.79099194,  18.53769728,  23.28440261,  28.03110794,\n",
       "         32.77781328,  37.52451861,  42.27122394,  47.01792928,\n",
       "         51.76463461,  56.51133994,  61.25804527,  66.00475061,\n",
       "         70.75145594,  75.49816127,  80.24486661,  84.99157194,\n",
       "         89.73827727,  94.48498261,  99.23168794, 103.97839327,\n",
       "        108.7250986 , 113.47180394, 118.21850927, 122.9652146 ,\n",
       "        127.71191994, 132.45862527, 137.2053306 ]),\n",
       " <a list of 30 Patch objects>)"
      ]
     },
     "execution_count": 30,
     "metadata": {},
     "output_type": "execute_result"
    },
    {
     "data": {
      "image/png": "[encoded data removed]",
      "text/plain": [
       "<Figure size 432x288 with 1 Axes>"
      ]
     },
     "metadata": {
      "needs_background": "light"
     },
     "output_type": "display_data"
    }
   ],
   "source": [
    "plt.hist(data, bins=30)"
   ]
  },
  {
   "cell_type": "code",
   "execution_count": 34,
   "metadata": {},
   "outputs": [
    {
     "data": {
      "image/png": "[encoded data removed]",
      "text/plain": [
       "<Figure size 432x288 with 1 Axes>"
      ]
     },
     "metadata": {
      "needs_background": "light"
     },
     "output_type": "display_data"
    }
   ],
   "source": [
    "plt.boxplot(data)\n",
    "plt.grid(True)\n",
    "plt.show()"
   ]
  }
 ],
 "metadata": {
  "kernelspec": {
   "display_name": "Python 3",
   "language": "python",
   "name": "python3"
  },
  "language_info": {
   "codemirror_mode": {
    "name": "ipython",
    "version": 3
   },
   "file_extension": ".py",
   "mimetype": "text/x-python",
   "name": "python",
   "nbconvert_exporter": "python",
   "pygments_lexer": "ipython3",
   "version": "3.7.4"
  }
 },
 "nbformat": 4,
 "nbformat_minor": 2
}
