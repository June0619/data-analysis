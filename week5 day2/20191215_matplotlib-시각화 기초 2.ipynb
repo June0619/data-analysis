{
 "cells": [
  {
   "cell_type": "code",
   "execution_count": 4,
   "metadata": {},
   "outputs": [],
   "source": [
    "# 라이브러리 임포트\n",
    "import matplotlib\n",
    "import pandas as pd\n",
    "import matplotlib.pyplot as plt   # cmd : pip install matplotlib\n",
    "import numpy as np"
   ]
  },
  {
   "cell_type": "code",
   "execution_count": 6,
   "metadata": {},
   "outputs": [],
   "source": [
    "# jupyter notebook 명령어\n",
    "# plt.show() 없이 시각화 이미지를 셀 아래쪽에 표기함\n",
    "%matplotlib inline"
   ]
  },
  {
   "cell_type": "code",
   "execution_count": 9,
   "metadata": {},
   "outputs": [
    {
     "data": {
      "image/png": "[encoded data removed]",
      "text/plain": [
       "<Figure size 432x288 with 1 Axes>"
      ]
     },
     "metadata": {
      "needs_background": "light"
     },
     "output_type": "display_data"
    }
   ],
   "source": [
    "# 정규 분포 확률 밀도에서 100개의 표본 추출\n",
    "# random.normal()\n",
    "np.random.seed(123)\n",
    "x = np.random.normal(0, 1, 100)\n",
    "y = np.random.normal(0, 1, 100)\n",
    "plt.scatter(x, y)\n",
    "plt.show()"
   ]
  },
  {
   "cell_type": "code",
   "execution_count": 10,
   "metadata": {},
   "outputs": [],
   "source": [
    "# 딕셔너리 타입으로 데이터 전달\n",
    "# 샘플 의미 : 데이터 마다 색상, 마커크기가 다르게 표현되기 위하여 생성\n",
    "# x데이터(a) : 0이상 50미만의 범위에서 +1씩 증가하는 정수\n",
    "# 마커색상 데이터(b) : 0이상 50미만의 정수중 50개의 난수 추출\n",
    "# 마커크기 데이터(s) : 정규분포에서 추출한 50개의 난수(c) -> 발생한 난수의 절대값을\n",
    "# 취한 다음 거기에 100배\n",
    "# y 데이터(d) : x데이터 +10 * 정규분포에서 추출한 50개의 난수\n",
    "data = {'a':np.arange(0, 50),\n",
    "       'b':np.random.randint(0, 50, 50),\n",
    "       'c':np.random.randn(50)}\n",
    "data['d'] = data['a'] + 10*data['c']\n",
    "data['s'] = np.abs(data['c'])*100"
   ]
  },
  {
   "cell_type": "code",
   "execution_count": 11,
   "metadata": {},
   "outputs": [
    {
     "data": {
      "text/plain": [
       "{'a': array([ 0,  1,  2,  3,  4,  5,  6,  7,  8,  9, 10, 11, 12, 13, 14, 15, 16,\n",
       "        17, 18, 19, 20, 21, 22, 23, 24, 25, 26, 27, 28, 29, 30, 31, 32, 33,\n",
       "        34, 35, 36, 37, 38, 39, 40, 41, 42, 43, 44, 45, 46, 47, 48, 49]),\n",
       " 'b': array([37, 30, 19,  6, 36, 26,  7, 13, 49, 14,  6, 32, 33,  3,  0, 40, 13,\n",
       "        30, 37, 49, 19,  2, 34, 45, 32, 14,  2, 27, 26, 46, 46, 32, 18, 32,\n",
       "        30,  3, 31, 41, 27, 15, 48, 42, 27, 14, 47, 21, 30, 20, 31,  6]),\n",
       " 'c': array([-1.06697768e+00,  1.85434502e-01, -1.79840146e+00,  7.61549301e-01,\n",
       "         4.43400497e-02,  2.83580785e-01, -1.28382074e+00,  1.68250184e+00,\n",
       "        -5.98918774e-01,  1.48271932e+00, -9.73747447e-02, -1.27205836e+00,\n",
       "        -2.14583850e+00,  1.64366885e+00, -8.18807675e-01, -1.56373377e+00,\n",
       "         4.48068374e-01,  9.98950824e-01, -3.12709125e-02,  6.17126593e-01,\n",
       "         2.56166709e-01,  3.32160601e-01,  8.83159851e-01, -7.89621160e-01,\n",
       "        -4.85899587e-01,  1.06673022e+00, -3.76678757e-01,  1.85882079e+00,\n",
       "        -5.96751207e-01,  1.90352074e-01,  1.96817910e-01, -2.05499678e-01,\n",
       "         3.10500011e-01, -1.75359391e+00,  1.26132137e-01, -7.97641520e-01,\n",
       "        -1.41367860e+00, -1.06939893e+00, -1.27516664e+00,  1.34921979e+00,\n",
       "         8.50991863e-01,  1.42796743e+00, -2.07187742e-01, -1.24369516e-01,\n",
       "        -8.15946254e-02, -1.39368208e-03, -3.16300973e-01,  7.66512823e-01,\n",
       "        -1.45809015e+00,  1.12671058e+00]),\n",
       " 'd': array([-10.66977684,   2.85434502, -15.98401457,  10.61549301,\n",
       "          4.4434005 ,   7.83580785,  -6.8382074 ,  23.8250184 ,\n",
       "          2.01081226,  23.82719315,   9.02625255,  -1.72058361,\n",
       "         -9.45838502,  29.43668847,   5.81192325,  -0.63733766,\n",
       "         20.48068374,  26.98950824,  17.68729087,  25.17126593,\n",
       "         22.56166709,  24.32160601,  30.83159851,  15.1037884 ,\n",
       "         19.14100413,  35.6673022 ,  22.23321243,  45.58820795,\n",
       "         22.03248793,  30.90352074,  31.9681791 ,  28.94500322,\n",
       "         35.10500011,  15.46406089,  35.26132137,  27.0235848 ,\n",
       "         21.86321402,  26.30601072,  25.24833356,  52.49219794,\n",
       "         48.50991863,  55.27967435,  39.92812258,  41.75630484,\n",
       "         43.18405375,  44.98606318,  42.83699027,  54.66512823,\n",
       "         33.41909845,  60.26710577]),\n",
       " 's': array([1.06697768e+02, 1.85434502e+01, 1.79840146e+02, 7.61549301e+01,\n",
       "        4.43400497e+00, 2.83580785e+01, 1.28382074e+02, 1.68250184e+02,\n",
       "        5.98918774e+01, 1.48271932e+02, 9.73747447e+00, 1.27205836e+02,\n",
       "        2.14583850e+02, 1.64366885e+02, 8.18807675e+01, 1.56373377e+02,\n",
       "        4.48068374e+01, 9.98950824e+01, 3.12709125e+00, 6.17126593e+01,\n",
       "        2.56166709e+01, 3.32160601e+01, 8.83159851e+01, 7.89621160e+01,\n",
       "        4.85899587e+01, 1.06673022e+02, 3.76678757e+01, 1.85882079e+02,\n",
       "        5.96751207e+01, 1.90352074e+01, 1.96817910e+01, 2.05499678e+01,\n",
       "        3.10500011e+01, 1.75359391e+02, 1.26132137e+01, 7.97641520e+01,\n",
       "        1.41367860e+02, 1.06939893e+02, 1.27516664e+02, 1.34921979e+02,\n",
       "        8.50991863e+01, 1.42796743e+02, 2.07187742e+01, 1.24369516e+01,\n",
       "        8.15946254e+00, 1.39368208e-01, 3.16300973e+01, 7.66512823e+01,\n",
       "        1.45809015e+02, 1.12671058e+02])}"
      ]
     },
     "execution_count": 11,
     "metadata": {},
     "output_type": "execute_result"
    }
   ],
   "source": [
    "data"
   ]
  },
  {
   "cell_type": "code",
   "execution_count": 12,
   "metadata": {},
   "outputs": [
    {
     "data": {
      "text/plain": [
       "array([ 0,  1,  2,  3,  4,  5,  6,  7,  8,  9, 10, 11, 12, 13, 14, 15, 16,\n",
       "       17, 18, 19, 20, 21, 22, 23, 24, 25, 26, 27, 28, 29, 30, 31, 32, 33,\n",
       "       34, 35, 36, 37, 38, 39, 40, 41, 42, 43, 44, 45, 46, 47, 48, 49])"
      ]
     },
     "execution_count": 12,
     "metadata": {},
     "output_type": "execute_result"
    }
   ],
   "source": [
    "# 데이터 확인 : x축에 해당하는 데이터\n",
    "data['a']"
   ]
  },
  {
   "cell_type": "code",
   "execution_count": 13,
   "metadata": {},
   "outputs": [
    {
     "data": {
      "text/plain": [
       "array([-10.66977684,   2.85434502, -15.98401457,  10.61549301,\n",
       "         4.4434005 ,   7.83580785,  -6.8382074 ,  23.8250184 ,\n",
       "         2.01081226,  23.82719315,   9.02625255,  -1.72058361,\n",
       "        -9.45838502,  29.43668847,   5.81192325,  -0.63733766,\n",
       "        20.48068374,  26.98950824,  17.68729087,  25.17126593,\n",
       "        22.56166709,  24.32160601,  30.83159851,  15.1037884 ,\n",
       "        19.14100413,  35.6673022 ,  22.23321243,  45.58820795,\n",
       "        22.03248793,  30.90352074,  31.9681791 ,  28.94500322,\n",
       "        35.10500011,  15.46406089,  35.26132137,  27.0235848 ,\n",
       "        21.86321402,  26.30601072,  25.24833356,  52.49219794,\n",
       "        48.50991863,  55.27967435,  39.92812258,  41.75630484,\n",
       "        43.18405375,  44.98606318,  42.83699027,  54.66512823,\n",
       "        33.41909845,  60.26710577])"
      ]
     },
     "execution_count": 13,
     "metadata": {},
     "output_type": "execute_result"
    }
   ],
   "source": [
    "# 데이터 확인 : y축에 해당하는 데이터\n",
    "data['d']"
   ]
  },
  {
   "cell_type": "code",
   "execution_count": 14,
   "metadata": {},
   "outputs": [
    {
     "data": {
      "text/plain": [
       "array([37, 30, 19,  6, 36, 26,  7, 13, 49, 14,  6, 32, 33,  3,  0, 40, 13,\n",
       "       30, 37, 49, 19,  2, 34, 45, 32, 14,  2, 27, 26, 46, 46, 32, 18, 32,\n",
       "       30,  3, 31, 41, 27, 15, 48, 42, 27, 14, 47, 21, 30, 20, 31,  6])"
      ]
     },
     "execution_count": 14,
     "metadata": {},
     "output_type": "execute_result"
    }
   ],
   "source": [
    "# 데이터 확인 : 마커 색상에 해당하는 데이터\n",
    "data['b']"
   ]
  },
  {
   "cell_type": "code",
   "execution_count": 15,
   "metadata": {},
   "outputs": [
    {
     "data": {
      "text/plain": [
       "array([1.06697768e+02, 1.85434502e+01, 1.79840146e+02, 7.61549301e+01,\n",
       "       4.43400497e+00, 2.83580785e+01, 1.28382074e+02, 1.68250184e+02,\n",
       "       5.98918774e+01, 1.48271932e+02, 9.73747447e+00, 1.27205836e+02,\n",
       "       2.14583850e+02, 1.64366885e+02, 8.18807675e+01, 1.56373377e+02,\n",
       "       4.48068374e+01, 9.98950824e+01, 3.12709125e+00, 6.17126593e+01,\n",
       "       2.56166709e+01, 3.32160601e+01, 8.83159851e+01, 7.89621160e+01,\n",
       "       4.85899587e+01, 1.06673022e+02, 3.76678757e+01, 1.85882079e+02,\n",
       "       5.96751207e+01, 1.90352074e+01, 1.96817910e+01, 2.05499678e+01,\n",
       "       3.10500011e+01, 1.75359391e+02, 1.26132137e+01, 7.97641520e+01,\n",
       "       1.41367860e+02, 1.06939893e+02, 1.27516664e+02, 1.34921979e+02,\n",
       "       8.50991863e+01, 1.42796743e+02, 2.07187742e+01, 1.24369516e+01,\n",
       "       8.15946254e+00, 1.39368208e-01, 3.16300973e+01, 7.66512823e+01,\n",
       "       1.45809015e+02, 1.12671058e+02])"
      ]
     },
     "execution_count": 15,
     "metadata": {},
     "output_type": "execute_result"
    }
   ],
   "source": [
    "# 데이터 확인 : 마커 사이즈에 대한 데이터\n",
    "data['s']"
   ]
  },
  {
   "cell_type": "code",
   "execution_count": null,
   "metadata": {},
   "outputs": [],
   "source": [
    "# data 파라미터를 통해 전달한 객체(딕셔너리)에서\n",
    "# x, y, s, c 파라미터에 해당하는 값에 사용하려는 키를 문자열로 전달\n",
    "# plt.scatter('x', 'y', s='s', c='c', data=dict)\n",
    "plt.scatter('a', 'd', s='s', c='b', data=data)\n",
    "plt.show()"
   ]
  },
  {
   "cell_type": "code",
   "execution_count": null,
   "metadata": {},
   "outputs": [],
   "source": []
  },
  {
   "cell_type": "code",
   "execution_count": null,
   "metadata": {},
   "outputs": [],
   "source": []
  },
  {
   "cell_type": "code",
   "execution_count": null,
   "metadata": {},
   "outputs": [],
   "source": []
  },
  {
   "cell_type": "code",
   "execution_count": null,
   "metadata": {},
   "outputs": [],
   "source": []
  },
  {
   "cell_type": "code",
   "execution_count": null,
   "metadata": {},
   "outputs": [],
   "source": []
  },
  {
   "cell_type": "code",
   "execution_count": null,
   "metadata": {},
   "outputs": [],
   "source": []
  },
  {
   "cell_type": "code",
   "execution_count": null,
   "metadata": {},
   "outputs": [],
   "source": []
  },
  {
   "cell_type": "code",
   "execution_count": null,
   "metadata": {},
   "outputs": [],
   "source": []
  },
  {
   "cell_type": "code",
   "execution_count": null,
   "metadata": {},
   "outputs": [],
   "source": []
  },
  {
   "cell_type": "code",
   "execution_count": null,
   "metadata": {},
   "outputs": [],
   "source": []
  },
  {
   "cell_type": "code",
   "execution_count": null,
   "metadata": {},
   "outputs": [],
   "source": []
  },
  {
   "cell_type": "code",
   "execution_count": null,
   "metadata": {},
   "outputs": [],
   "source": []
  },
  {
   "cell_type": "code",
   "execution_count": null,
   "metadata": {},
   "outputs": [],
   "source": []
  },
  {
   "cell_type": "code",
   "execution_count": null,
   "metadata": {},
   "outputs": [],
   "source": []
  },
  {
   "cell_type": "code",
   "execution_count": null,
   "metadata": {},
   "outputs": [],
   "source": []
  },
  {
   "cell_type": "code",
   "execution_count": null,
   "metadata": {},
   "outputs": [],
   "source": []
  },
  {
   "cell_type": "code",
   "execution_count": null,
   "metadata": {},
   "outputs": [],
   "source": []
  },
  {
   "cell_type": "code",
   "execution_count": null,
   "metadata": {},
   "outputs": [],
   "source": []
  },
  {
   "cell_type": "code",
   "execution_count": null,
   "metadata": {},
   "outputs": [],
   "source": []
  },
  {
   "cell_type": "code",
   "execution_count": null,
   "metadata": {},
   "outputs": [],
   "source": []
  },
  {
   "cell_type": "code",
   "execution_count": null,
   "metadata": {},
   "outputs": [],
   "source": []
  },
  {
   "cell_type": "code",
   "execution_count": null,
   "metadata": {},
   "outputs": [],
   "source": []
  },
  {
   "cell_type": "code",
   "execution_count": null,
   "metadata": {},
   "outputs": [],
   "source": []
  },
  {
   "cell_type": "code",
   "execution_count": null,
   "metadata": {},
   "outputs": [],
   "source": []
  },
  {
   "cell_type": "code",
   "execution_count": null,
   "metadata": {},
   "outputs": [],
   "source": []
  }
 ],
 "metadata": {
  "kernelspec": {
   "display_name": "Python 3",
   "language": "python",
   "name": "python3"
  },
  "language_info": {
   "codemirror_mode": {
    "name": "ipython",
    "version": 3
   },
   "file_extension": ".py",
   "mimetype": "text/x-python",
   "name": "python",
   "nbconvert_exporter": "python",
   "pygments_lexer": "ipython3",
   "version": "3.7.4"
  }
 },
 "nbformat": 4,
 "nbformat_minor": 2
}
