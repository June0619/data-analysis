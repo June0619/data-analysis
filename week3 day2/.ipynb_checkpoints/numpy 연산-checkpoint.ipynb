{
 "cells": [
  {
   "cell_type": "code",
   "execution_count": 1,
   "metadata": {},
   "outputs": [],
   "source": [
    "import numpy as np"
   ]
  },
  {
   "cell_type": "code",
   "execution_count": 2,
   "metadata": {},
   "outputs": [],
   "source": [
    "# Numpy 객체 정보를 확인하기 위한 사용자 함수 정의 : 객체타입, 구조, 차원, 데이터타입, 객체\n",
    "def np_print(arr):\n",
    "    print('''\n",
    "type : {}  \n",
    "shape : {}  \n",
    "dimension : {}  \n",
    "dtype : {}\n",
    "data :\\n {}\n",
    "'''.format(type(arr), arr.shape, arr.ndim, arr.dtype, arr))"
   ]
  },
  {
   "cell_type": "markdown",
   "metadata": {},
   "source": [
    "## 산술연산\n",
    "\n",
    "- 더하기 : +, add()\n",
    "- 빼기 : -, subtract()\n",
    "- 나누기 : /, divide()\n",
    "- 곱하기 : *, multiply()\n",
    "- 지수곱 표현 : exp()\n",
    "- 제곱근 : sqrt()\n",
    "- 로그 : log()\n",
    "- 내적(행렬곱) : dot()"
   ]
  },
  {
   "cell_type": "code",
   "execution_count": 20,
   "metadata": {},
   "outputs": [
    {
     "name": "stdout",
     "output_type": "stream",
     "text": [
      "\n",
      "type : <class 'numpy.ndarray'>  \n",
      "shape : (3, 3)  \n",
      "dimension : 2  \n",
      "dtype : int32\n",
      "data :\n",
      " [[1 2 3]\n",
      " [4 5 6]\n",
      " [7 8 9]]\n",
      "\n"
     ]
    }
   ],
   "source": [
    "# 1부터 10미만의 범위(지정범위)에서 1씩 증가하는 숫자를 데이터로 가진 3행 3열 배열\n",
    "a = np.arange(1, 10).reshape(3,3)\n",
    "np_print(a)"
   ]
  },
  {
   "cell_type": "code",
   "execution_count": 25,
   "metadata": {},
   "outputs": [
    {
     "name": "stdout",
     "output_type": "stream",
     "text": [
      "\n",
      "type : <class 'numpy.ndarray'>  \n",
      "shape : (3, 3)  \n",
      "dimension : 2  \n",
      "dtype : int32\n",
      "data :\n",
      " [[ 4  5  6]\n",
      " [ 7  8  9]\n",
      " [10 11 12]]\n",
      "\n"
     ]
    }
   ],
   "source": [
    "# 4이상 14미만의 범위에서 1씩 증가하는 숫자를 데이터로 가진 3행 3열 배열 생성\n",
    "b = np.arange(4, 13).reshape(3,3)\n",
    "np_print(b)"
   ]
  },
  {
   "cell_type": "code",
   "execution_count": 28,
   "metadata": {},
   "outputs": [
    {
     "name": "stdout",
     "output_type": "stream",
     "text": [
      "\n",
      "type : <class 'numpy.ndarray'>  \n",
      "shape : (3, 4)  \n",
      "dimension : 2  \n",
      "dtype : int32\n",
      "data :\n",
      " [[10 11 12 13]\n",
      " [14 15 16 17]\n",
      " [18 19 20 21]]\n",
      "\n"
     ]
    }
   ],
   "source": [
    "# 10 ~ 21까지 3행 4열 형태로 만들기\n",
    "c = np.arange(10,22).reshape(3,4)\n",
    "np_print(c)"
   ]
  },
  {
   "cell_type": "code",
   "execution_count": null,
   "metadata": {},
   "outputs": [],
   "source": []
  },
  {
   "cell_type": "code",
   "execution_count": null,
   "metadata": {},
   "outputs": [],
   "source": []
  },
  {
   "cell_type": "code",
   "execution_count": null,
   "metadata": {},
   "outputs": [],
   "source": []
  },
  {
   "cell_type": "code",
   "execution_count": null,
   "metadata": {},
   "outputs": [],
   "source": []
  },
  {
   "cell_type": "code",
   "execution_count": null,
   "metadata": {},
   "outputs": [],
   "source": []
  },
  {
   "cell_type": "code",
   "execution_count": null,
   "metadata": {},
   "outputs": [],
   "source": []
  },
  {
   "cell_type": "code",
   "execution_count": null,
   "metadata": {},
   "outputs": [],
   "source": []
  },
  {
   "cell_type": "code",
   "execution_count": null,
   "metadata": {},
   "outputs": [],
   "source": []
  }
 ],
 "metadata": {
  "kernelspec": {
   "display_name": "Python 3",
   "language": "python",
   "name": "python3"
  },
  "language_info": {
   "codemirror_mode": {
    "name": "ipython",
    "version": 3
   },
   "file_extension": ".py",
   "mimetype": "text/x-python",
   "name": "python",
   "nbconvert_exporter": "python",
   "pygments_lexer": "ipython3",
   "version": "3.7.4"
  }
 },
 "nbformat": 4,
 "nbformat_minor": 2
}
