{
 "cells": [
  {
   "cell_type": "code",
   "execution_count": 2,
   "metadata": {},
   "outputs": [],
   "source": [
    "import numpy as np\n",
    "\n",
    "def np_print(nparr):\n",
    "    print('''\n",
    "    type : {}  \n",
    "    shape : {}  \n",
    "    dimension : {}  \n",
    "    dtype : {}\n",
    "    data :\\n {}\n",
    "    '''.format(type(nparr), nparr.shape, nparr.ndim, nparr.dtype, nparr))"
   ]
  },
  {
   "cell_type": "markdown",
   "metadata": {},
   "source": [
    "### 배열 정렬\n",
    "\n",
    "- sort(axis = -1) 메서드 : axis를 기준으로 요소를 오름차순 정렬\n",
    "    - 기본값(axis = -1) : 현재 배열의 마지막 axis\n",
    "    - axis = 0 : 열 단위 정렬\n",
    "    - axis = 1 : 행 단위 정렬\n",
    "    - 원본 객체에 정렬 결과가 반영됨\n",
    "    \n",
    "- np.sort(axis = -1) : axis를 기준으로 요소를 오름차순 정렬\n",
    "    - 기본값(axis = -1) : 현재 배열의 마지막 axis\n",
    "    - axis = 0 : 열 단위 정렬\n",
    "    - axis = 1 : 행 단위 정렬\n",
    "    - 정렬된 새로운 배열을 반환함\n",
    "    \n",
    "- np.argsort(arr) : 정렬 순서를 반환\n",
    "    - 기본값(axis = -1) : 현재 배열의 마지막 axis\n",
    "    - axis = 0 : 열 단위 정렬\n",
    "    - axis = 1 : 행 단위 정렬"
   ]
  },
  {
   "cell_type": "code",
   "execution_count": 4,
   "metadata": {},
   "outputs": [
    {
     "name": "stdout",
     "output_type": "stream",
     "text": [
      "\n",
      "    type : <class 'numpy.ndarray'>  \n",
      "    shape : (5,)  \n",
      "    dimension : 1  \n",
      "    dtype : int32\n",
      "    data :\n",
      " [0 1 2 3 4]\n",
      "    \n"
     ]
    }
   ],
   "source": [
    "x = np.arange(5)\n",
    "np_print(x)"
   ]
  },
  {
   "cell_type": "code",
   "execution_count": 14,
   "metadata": {},
   "outputs": [
    {
     "data": {
      "text/plain": [
       "array([4, 3, 2, 1, 0])"
      ]
     },
     "execution_count": 14,
     "metadata": {},
     "output_type": "execute_result"
    }
   ],
   "source": [
    "# 역순으로 정렬\n",
    "x[::-1]"
   ]
  },
  {
   "cell_type": "code",
   "execution_count": 13,
   "metadata": {},
   "outputs": [
    {
     "name": "stdout",
     "output_type": "stream",
     "text": [
      "\n",
      "    type : <class 'numpy.ndarray'>  \n",
      "    shape : (5,)  \n",
      "    dimension : 1  \n",
      "    dtype : int32\n",
      "    data :\n",
      " [8 6 9 7 3]\n",
      "    \n"
     ]
    }
   ],
   "source": [
    "# 오름차순 정렬 (0~9 범위 내의 5개 숫자)\n",
    "a = np.random.randint(0, 10, 5)\n",
    "np_print(a)"
   ]
  },
  {
   "cell_type": "code",
   "execution_count": 18,
   "metadata": {},
   "outputs": [
    {
     "name": "stdout",
     "output_type": "stream",
     "text": [
      "[3 6 7 8 9]\n",
      "[8 6 9 7 3]\n"
     ]
    }
   ],
   "source": [
    "# 1. np.sort(자료) -> 원본 자체가 바뀌진 않음\n",
    "print(np.sort(a))\n",
    "print(a)"
   ]
  },
  {
   "cell_type": "code",
   "execution_count": 20,
   "metadata": {},
   "outputs": [
    {
     "name": "stdout",
     "output_type": "stream",
     "text": [
      "[3 6 7 8 9]\n",
      "\n",
      "    type : <class 'numpy.ndarray'>  \n",
      "    shape : (5,)  \n",
      "    dimension : 1  \n",
      "    dtype : int32\n",
      "    data :\n",
      " [5 2 2 7 3]\n",
      "    \n"
     ]
    }
   ],
   "source": [
    "# 2. 자료.sort() -> 원본 자료에 반영\n",
    "a.sort()\n",
    "print(a)\n",
    "b= np.random.randint(0, 10, 5)\n",
    "np_print(b)"
   ]
  },
  {
   "cell_type": "code",
   "execution_count": 21,
   "metadata": {},
   "outputs": [
    {
     "data": {
      "text/plain": [
       "array([1, 2, 4, 0, 3], dtype=int64)"
      ]
     },
     "execution_count": 21,
     "metadata": {},
     "output_type": "execute_result"
    }
   ],
   "source": [
    "# np.argsort(자료)는 자료 내부의 아이템들을 순서대로 정렬하기 위해서\n",
    "# 현재 인덱스 몇 번에 있는 자료를 어떤 순서로 배치해야 하는지 보여줌\n",
    "np.argsort(b) # 정렬 전 자료의 인덱스 번호를 정렬 된 상태로 가져옴"
   ]
  },
  {
   "cell_type": "code",
   "execution_count": 22,
   "metadata": {},
   "outputs": [
    {
     "name": "stdout",
     "output_type": "stream",
     "text": [
      "\n",
      "    type : <class 'numpy.ndarray'>  \n",
      "    shape : (3, 3)  \n",
      "    dimension : 2  \n",
      "    dtype : float64\n",
      "    data :\n",
      " [[0.77093354 0.06516307 0.80366914]\n",
      " [0.30695734 0.30885578 0.09369577]\n",
      " [0.75284491 0.363851   0.92408136]]\n",
      "    \n",
      "\n",
      "    type : <class 'numpy.ndarray'>  \n",
      "    shape : (3, 3)  \n",
      "    dimension : 2  \n",
      "    dtype : float64\n",
      "    data :\n",
      " [[0.217102   0.73589623 0.36006363]\n",
      " [0.33357321 0.19970156 0.0401308 ]\n",
      " [0.69582694 0.3063456  0.83797814]]\n",
      "    \n"
     ]
    }
   ],
   "source": [
    "# 0 이상 1 미만의 범위에서 무작위로 실수 값을 가지는 3행 3열의 배열 2개 생성\n",
    "a = np.random.random((3,3))\n",
    "b = np.random.random((3,3))\n",
    "np_print(a)\n",
    "np_print(b)"
   ]
  },
  {
   "cell_type": "markdown",
   "metadata": {},
   "source": [
    "##### 예) 2차원 배열의 경우\n",
    "\n",
    "기본값 axis = -1 <br>\n",
    "현재 배열의 axis = 0, 1 <br>\n",
    "마지막 axis = 1 (행 기준 정렬)\n",
    "\n",
    "<img src='img/sortaxis1.jpg' width='200' height='200' align='left'>"
   ]
  },
  {
   "cell_type": "code",
   "execution_count": 23,
   "metadata": {},
   "outputs": [
    {
     "name": "stdout",
     "output_type": "stream",
     "text": [
      "\n",
      "    type : <class 'numpy.ndarray'>  \n",
      "    shape : (3, 3)  \n",
      "    dimension : 2  \n",
      "    dtype : float64\n",
      "    data :\n",
      " [[0.77093354 0.06516307 0.80366914]\n",
      " [0.30695734 0.30885578 0.09369577]\n",
      " [0.75284491 0.363851   0.92408136]]\n",
      "    \n"
     ]
    },
    {
     "data": {
      "text/plain": [
       "array([[0.06516307, 0.77093354, 0.80366914],\n",
       "       [0.09369577, 0.30695734, 0.30885578],\n",
       "       [0.363851  , 0.75284491, 0.92408136]])"
      ]
     },
     "execution_count": 23,
     "metadata": {},
     "output_type": "execute_result"
    }
   ],
   "source": [
    "# 기본 방향(axis=-1)\n",
    "np_print(a)\n",
    "np.sort(a)"
   ]
  },
  {
   "cell_type": "markdown",
   "metadata": {},
   "source": [
    "##### axis = 0 (열 기준 정렬)\n",
    "\n",
    "<img src='img/sortaxis0.jpg' width='200' height='200' align='left'>"
   ]
  },
  {
   "cell_type": "code",
   "execution_count": 31,
   "metadata": {},
   "outputs": [
    {
     "name": "stdout",
     "output_type": "stream",
     "text": [
      "\n",
      "    type : <class 'numpy.ndarray'>  \n",
      "    shape : (3, 3)  \n",
      "    dimension : 2  \n",
      "    dtype : float64\n",
      "    data :\n",
      " [[0.77093354 0.06516307 0.80366914]\n",
      " [0.30695734 0.30885578 0.09369577]\n",
      " [0.75284491 0.363851   0.92408136]]\n",
      "    \n"
     ]
    },
    {
     "data": {
      "text/plain": [
       "array([[0.30695734, 0.06516307, 0.09369577],\n",
       "       [0.75284491, 0.30885578, 0.80366914],\n",
       "       [0.77093354, 0.363851  , 0.92408136]])"
      ]
     },
     "execution_count": 31,
     "metadata": {},
     "output_type": "execute_result"
    }
   ],
   "source": [
    "np_print(a)\n",
    "np.sort(a, axis=0)"
   ]
  },
  {
   "cell_type": "markdown",
   "metadata": {},
   "source": [
    "## 인덱싱(Indexing), 슬라이싱(Slicing)\n",
    "\n",
    "### 1. 인덱싱 : 하나의 요소에 대해 참조\n",
    "- 각 차원에 따라 배열이 참조하는 인덱스의 개수가 다름\n",
    "    - 1차원 배열 : 인덱스 1개\n",
    "    - 2차원 배열 : 인덱스 2개\n",
    "    - 3차원 배열 : 인덱스 3개\n",
    "\n",
    "- 인덱싱으로 참조한 요소에 대해 수정 가능\n",
    "\n",
    "- 인덱스 배열을 전달하여 여러 개의 요소 참조"
   ]
  },
  {
   "cell_type": "code",
   "execution_count": 32,
   "metadata": {},
   "outputs": [
    {
     "name": "stdout",
     "output_type": "stream",
     "text": [
      "\n",
      "    type : <class 'numpy.ndarray'>  \n",
      "    shape : (24,)  \n",
      "    dimension : 1  \n",
      "    dtype : int32\n",
      "    data :\n",
      " [ 0  1  2  3  4  5  6  7  8  9 10 11 12 13 14 15 16 17 18 19 20 21 22 23]\n",
      "    \n"
     ]
    }
   ],
   "source": [
    "# 0부터 34까지 1씩 증가하는 값을 아이템으로 가지는 1차원 배열 생성\n",
    "arr1 = np.arange(0, 24)\n",
    "np_print(arr1)"
   ]
  },
  {
   "cell_type": "code",
   "execution_count": 33,
   "metadata": {},
   "outputs": [
    {
     "data": {
      "text/plain": [
       "1"
      ]
     },
     "execution_count": 33,
     "metadata": {},
     "output_type": "execute_result"
    }
   ],
   "source": [
    "# 1차원 배열 인덱싱 : 1번 인덱스 요소 접근\n",
    "arr1[1]"
   ]
  },
  {
   "cell_type": "code",
   "execution_count": 35,
   "metadata": {},
   "outputs": [
    {
     "data": {
      "text/plain": [
       "array([  0,   1,   2,   3,   4,   5,   6,   7,   8,   9,  10,  11,  12,\n",
       "        13,  14,  15,  16,  17,  18,  19,  20,  21,  22, 100])"
      ]
     },
     "execution_count": 35,
     "metadata": {},
     "output_type": "execute_result"
    }
   ],
   "source": [
    "# 1차원 배열 인덱싱을 통한 값 수정\n",
    "arr1[-1] = 100\n",
    "arr1"
   ]
  },
  {
   "cell_type": "code",
   "execution_count": 53,
   "metadata": {},
   "outputs": [
    {
     "name": "stdout",
     "output_type": "stream",
     "text": [
      "\n",
      "    type : <class 'numpy.ndarray'>  \n",
      "    shape : (4, 6)  \n",
      "    dimension : 2  \n",
      "    dtype : int32\n",
      "    data :\n",
      " [[  0   1   2   3   4   5]\n",
      " [  6   7   8   9  10  11]\n",
      " [ 12  13  14  15  16  17]\n",
      " [ 18  19  20  21  22 100]]\n",
      "    \n"
     ]
    }
   ],
   "source": [
    "# 배열 arr1을 이용해 4x6 형태의 2차원 배열 생성\n",
    "arr2 = arr1\n",
    "np_print(arr2.reshape(4,6))\n",
    "arr2 = arr2.reshape(4,6)"
   ]
  },
  {
   "cell_type": "code",
   "execution_count": 54,
   "metadata": {},
   "outputs": [
    {
     "data": {
      "text/plain": [
       "array([0, 1, 2, 3, 4, 5])"
      ]
     },
     "execution_count": 54,
     "metadata": {},
     "output_type": "execute_result"
    }
   ],
   "source": [
    "# 2차원 배열 인덱싱 : 2차원배열[행인덱스, (열인덱스)]\n",
    "# 하나의 열에 접근 : 1열\n",
    "arr2[0]"
   ]
  },
  {
   "cell_type": "code",
   "execution_count": 55,
   "metadata": {},
   "outputs": [
    {
     "data": {
      "text/plain": [
       "array([ 0,  6, 12, 18])"
      ]
     },
     "execution_count": 55,
     "metadata": {},
     "output_type": "execute_result"
    }
   ],
   "source": [
    "# 하나의 열에 접근 : 모든 행에 대해서 하나의 열에 접근\n",
    "# 반환값 : 1d array\n",
    "arr2[:, 0]"
   ]
  },
  {
   "cell_type": "code",
   "execution_count": 56,
   "metadata": {},
   "outputs": [
    {
     "data": {
      "text/plain": [
       "14"
      ]
     },
     "execution_count": 56,
     "metadata": {},
     "output_type": "execute_result"
    }
   ],
   "source": [
    "# 하나의 값에 접근\n",
    "# 3행 3열\n",
    "arr2[2, 2]"
   ]
  },
  {
   "cell_type": "code",
   "execution_count": 57,
   "metadata": {},
   "outputs": [
    {
     "data": {
      "text/plain": [
       "array([[ 18,  19,  20,  21,  22, 100],\n",
       "       [  0,   1,   2,   3,   4,   5]])"
      ]
     },
     "execution_count": 57,
     "metadata": {},
     "output_type": "execute_result"
    }
   ],
   "source": [
    "# 여러개의 행(row) 조회\n",
    "arr2[[3, 0]]"
   ]
  },
  {
   "cell_type": "code",
   "execution_count": 59,
   "metadata": {},
   "outputs": [
    {
     "data": {
      "text/plain": [
       "array([[ 0,  2],\n",
       "       [ 6,  8],\n",
       "       [12, 14],\n",
       "       [18, 20]])"
      ]
     },
     "execution_count": 59,
     "metadata": {},
     "output_type": "execute_result"
    }
   ],
   "source": [
    "# 여러 개의 열(column) 조회(0번째, 2번째)\n",
    "arr2[:, [0,2]]"
   ]
  },
  {
   "cell_type": "code",
   "execution_count": 62,
   "metadata": {},
   "outputs": [
    {
     "data": {
      "text/plain": [
       "array([[  0,   1,   2,   3,   4,   5],\n",
       "       [  6,   7,   8,   9,  10,  11],\n",
       "       [  9,   9,   9,   9,   9,   9],\n",
       "       [ 18,  19,  20,  21,  22, 100]])"
      ]
     },
     "execution_count": 62,
     "metadata": {},
     "output_type": "execute_result"
    }
   ],
   "source": [
    "# 2차원 배열 인덱싱을 통한 값 수정\n",
    "# 하나의 행/열에 대해 모두 동일한 값으로 수정 : 전달하는 값을 스칼라값으로 전달\n",
    "# 서로 다른 값으로 수정 : 배열 요소 개수에 맞춰서 전달\n",
    "# 하나의 값을 수정하는 예시\n",
    "arr2[2] = 9\n",
    "arr2"
   ]
  }
 ],
 "metadata": {
  "kernelspec": {
   "display_name": "Python 3",
   "language": "python",
   "name": "python3"
  },
  "language_info": {
   "codemirror_mode": {
    "name": "ipython",
    "version": 3
   },
   "file_extension": ".py",
   "mimetype": "text/x-python",
   "name": "python",
   "nbconvert_exporter": "python",
   "pygments_lexer": "ipython3",
   "version": "3.7.4"
  }
 },
 "nbformat": 4,
 "nbformat_minor": 2
}
