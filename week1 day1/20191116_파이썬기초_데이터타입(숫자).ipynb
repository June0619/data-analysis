{
 "cells": [
  {
   "cell_type": "markdown",
   "metadata": {},
   "source": [
    "# 데이터 타입\n",
    "## > 숫자형\n",
    "- 종류\n",
    "    - 정수 : 0, 양수, 음수인 숫자\n",
    "    - 실수 : 소수점을 포함하는 숫자\n",
    "    - 8진수(0o 또는 0O로 시작) : 0o34, 0o25\n",
    "    - 16진수(0x로 시작) : 0x2A, 0xFF"
   ]
  },
  {
   "cell_type": "markdown",
   "metadata": {},
   "source": [
    "### 정수형"
   ]
  },
  {
   "cell_type": "code",
   "execution_count": 13,
   "metadata": {},
   "outputs": [
    {
     "name": "stdout",
     "output_type": "stream",
     "text": [
      "10\n",
      "-20\n",
      "0\n"
     ]
    }
   ],
   "source": [
    "# 양수, 음수, 0\n",
    "a = 10\n",
    "print(a)\n",
    "b = -20\n",
    "print(b)\n",
    "c = 0\n",
    "print(c)"
   ]
  },
  {
   "cell_type": "code",
   "execution_count": 10,
   "metadata": {},
   "outputs": [
    {
     "name": "stdout",
     "output_type": "stream",
     "text": [
      "<class 'int'> <class 'int'> <class 'int'>\n"
     ]
    }
   ],
   "source": [
    "# 정수 타입 : 타입(데이터종류)를 확인하는 내장함수 type()\n",
    "type(a)\n",
    "type(b)\n",
    "print(type(a), type(b), type(c))"
   ]
  },
  {
   "cell_type": "markdown",
   "metadata": {},
   "source": [
    "### 실수형"
   ]
  },
  {
   "cell_type": "code",
   "execution_count": 11,
   "metadata": {},
   "outputs": [],
   "source": [
    "# 양의 실수, 음의 실수 : float\n",
    "a = 1.3\n",
    "b = -2.4\n",
    "c = 0.0"
   ]
  },
  {
   "cell_type": "code",
   "execution_count": 14,
   "metadata": {},
   "outputs": [
    {
     "name": "stdout",
     "output_type": "stream",
     "text": [
      "<class 'int'> <class 'int'> <class 'int'>\n"
     ]
    }
   ],
   "source": [
    "# 타입 확인\n",
    "print(type(a), type(b), type(c))"
   ]
  },
  {
   "cell_type": "code",
   "execution_count": 16,
   "metadata": {},
   "outputs": [
    {
     "name": "stdout",
     "output_type": "stream",
     "text": [
      "<class 'int'> <class 'float'>\n"
     ]
    }
   ],
   "source": [
    "# 0 Vs 0.0:\n",
    "print(type(0), type(0.0))"
   ]
  },
  {
   "cell_type": "markdown",
   "metadata": {},
   "source": [
    "## > 연산자\n",
    "\n",
    "- 산술 : +, -, *, /, //(몫), %(나머지), **(제곱)\n",
    "- 비교 : ==(값이 같은지), !=(값이 다른지), <=, >=, <, >\n",
    "- 논리 : and, or\n",
    "- 할당 : =, +=(누적합), -=(누적차), *=(누적곱), /=(몫만 남기기), %=(나머지만 남기기)"
   ]
  },
  {
   "cell_type": "markdown",
   "metadata": {},
   "source": [
    "### 1) 산술연산자 : 숫자를 계산하기 위한 문법 기호"
   ]
  },
  {
   "cell_type": "code",
   "execution_count": 20,
   "metadata": {},
   "outputs": [
    {
     "data": {
      "text/plain": [
       "13.4"
      ]
     },
     "execution_count": 20,
     "metadata": {},
     "output_type": "execute_result"
    }
   ],
   "source": [
    "# 더하기 : +\n",
    "10 + 3 # 정수 + 정수 => 정수로 출력\n",
    "13.3 + 2.4 # 실수 + 실수 => 실수로 출력\n",
    "10 + 3.4 # 정수 + 실수 => 실수"
   ]
  },
  {
   "cell_type": "code",
   "execution_count": 22,
   "metadata": {},
   "outputs": [
    {
     "data": {
      "text/plain": [
       "-4.7"
      ]
     },
     "execution_count": 22,
     "metadata": {},
     "output_type": "execute_result"
    }
   ],
   "source": [
    "# 빼기 : -\n",
    "10 - 3\n",
    "3 - 7.7"
   ]
  },
  {
   "cell_type": "code",
   "execution_count": 24,
   "metadata": {},
   "outputs": [
    {
     "data": {
      "text/plain": [
       "1.6666666666666667"
      ]
     },
     "execution_count": 24,
     "metadata": {},
     "output_type": "execute_result"
    }
   ],
   "source": [
    "# 나누기 : /\n",
    "5/3 # 정수/정수 = 실수"
   ]
  },
  {
   "cell_type": "code",
   "execution_count": 27,
   "metadata": {},
   "outputs": [
    {
     "data": {
      "text/plain": [
       "-3"
      ]
     },
     "execution_count": 27,
     "metadata": {},
     "output_type": "execute_result"
    }
   ],
   "source": [
    "# 곱하기 : *\n",
    "3 * 4\n",
    "-3 * 5\n",
    "3*(4-5)"
   ]
  },
  {
   "cell_type": "code",
   "execution_count": null,
   "metadata": {},
   "outputs": [],
   "source": [
    "# 몫만 반환 : //\n",
    "# 나눗셈의 결과값보다 작은 정수중에 가장 큰 정수"
   ]
  },
  {
   "cell_type": "code",
   "execution_count": 29,
   "metadata": {},
   "outputs": [
    {
     "data": {
      "text/plain": [
       "0"
      ]
     },
     "execution_count": 29,
     "metadata": {},
     "output_type": "execute_result"
    }
   ],
   "source": [
    "# 양수\n",
    "3 // 4"
   ]
  },
  {
   "cell_type": "code",
   "execution_count": 30,
   "metadata": {},
   "outputs": [
    {
     "data": {
      "text/plain": [
       "-1"
      ]
     },
     "execution_count": 30,
     "metadata": {},
     "output_type": "execute_result"
    }
   ],
   "source": [
    "# 음수\n",
    "-3 // 4"
   ]
  },
  {
   "cell_type": "code",
   "execution_count": 31,
   "metadata": {},
   "outputs": [
    {
     "data": {
      "text/plain": [
       "3"
      ]
     },
     "execution_count": 31,
     "metadata": {},
     "output_type": "execute_result"
    }
   ],
   "source": [
    "# 나머지만 반환 : %\n",
    "3 % 4"
   ]
  },
  {
   "cell_type": "code",
   "execution_count": 33,
   "metadata": {},
   "outputs": [
    {
     "data": {
      "text/plain": [
       "1.4142135623730951"
      ]
     },
     "execution_count": 33,
     "metadata": {},
     "output_type": "execute_result"
    }
   ],
   "source": [
    "# 지수 : **\n",
    "2 ** 3\n",
    "2 ** 0.5"
   ]
  },
  {
   "cell_type": "markdown",
   "metadata": {},
   "source": [
    "### 2) 비교연산자 : 숫자를 비교하기 위한 문법 기호\n",
    "    - 결과가 숫자가 아니라 bool type의 결과를 가진다\n",
    "    \n",
    "> ##### bool type\n",
    "    - True : 0이 아닌 숫자, 참인 조건식 등\n",
    "    - False : 0, 거짓인 조건식 등\n",
    "- 값에 대한 비교 : ==, !=\n",
    "- 크기에 대한 비교 : >, <, >=, <="
   ]
  },
  {
   "cell_type": "code",
   "execution_count": 35,
   "metadata": {},
   "outputs": [
    {
     "data": {
      "text/plain": [
       "False"
      ]
     },
     "execution_count": 35,
     "metadata": {},
     "output_type": "execute_result"
    }
   ],
   "source": [
    "# 두 값이 같은지 비교 : ==\n",
    "# (결과) 두 값이 같으면 True, 두 값이 다르면 False\n",
    "0 == 0.0\n",
    "type(0) == type(0.0)"
   ]
  },
  {
   "cell_type": "code",
   "execution_count": 37,
   "metadata": {},
   "outputs": [
    {
     "data": {
      "text/plain": [
       "False"
      ]
     },
     "execution_count": 37,
     "metadata": {},
     "output_type": "execute_result"
    }
   ],
   "source": [
    "# 두 값이 다른지 비교 : !=\n",
    "# 두 값이 다르면 True, 같으면 False\n",
    "type(0) != type(0.0)\n",
    "0 != 0.0"
   ]
  },
  {
   "cell_type": "code",
   "execution_count": 39,
   "metadata": {},
   "outputs": [
    {
     "data": {
      "text/plain": [
       "True"
      ]
     },
     "execution_count": 39,
     "metadata": {},
     "output_type": "execute_result"
    }
   ],
   "source": [
    "# 두 값의 크기를 비교 : >=, <=, <, >\n",
    "10 > 3"
   ]
  },
  {
   "cell_type": "markdown",
   "metadata": {},
   "source": [
    "##### 3) 논리연산자\n",
    "- 여러 개의 조건식을 활용하기 위한 명령어\n",
    "- bool type 결과 반환 : True, False"
   ]
  },
  {
   "cell_type": "code",
   "execution_count": 43,
   "metadata": {},
   "outputs": [
    {
     "data": {
      "text/plain": [
       "True"
      ]
     },
     "execution_count": 43,
     "metadata": {},
     "output_type": "execute_result"
    }
   ],
   "source": [
    "# 숫자 0은 False, 이외의 모든 숫자는 True\n",
    "# bool(자료) 함수는 자료의 참, 거짓을 판단해준다.\n",
    "bool(10)"
   ]
  },
  {
   "cell_type": "code",
   "execution_count": 44,
   "metadata": {},
   "outputs": [
    {
     "data": {
      "text/plain": [
       "False"
      ]
     },
     "execution_count": 44,
     "metadata": {},
     "output_type": "execute_result"
    }
   ],
   "source": [
    "# 0이 False로 사용되는 예시\n",
    "bool(0 and 10 > 3) # 0 -> False, 10>3 -> true => and연산자의 결과 : False"
   ]
  },
  {
   "cell_type": "code",
   "execution_count": 46,
   "metadata": {},
   "outputs": [
    {
     "data": {
      "text/plain": [
       "True"
      ]
     },
     "execution_count": 46,
     "metadata": {},
     "output_type": "execute_result"
    }
   ],
   "source": [
    "# or 연산자\n",
    "# 조건식1 or 조건식2 ...\n",
    "# 둘 중 하나만 True여도 최종결과는 True\n",
    "# 둘 다 False일 때만 최종결과 False\n",
    "0 or 10 > 3"
   ]
  },
  {
   "cell_type": "markdown",
   "metadata": {},
   "source": [
    "##### 4) 할당연산자\n",
    "\n",
    "- 변수 할당\n",
    "- 누적 연산"
   ]
  },
  {
   "cell_type": "code",
   "execution_count": 50,
   "metadata": {},
   "outputs": [
    {
     "data": {
      "text/plain": [
       "10"
      ]
     },
     "execution_count": 50,
     "metadata": {},
     "output_type": "execute_result"
    }
   ],
   "source": [
    "# 변수명(왼쪽)에 변수값(오른쪽)을 할당/선언/저장 : =\n",
    "x = 10\n",
    "x"
   ]
  },
  {
   "cell_type": "code",
   "execution_count": 52,
   "metadata": {},
   "outputs": [
    {
     "data": {
      "text/plain": [
       "10"
      ]
     },
     "execution_count": 52,
     "metadata": {},
     "output_type": "execute_result"
    }
   ],
   "source": [
    "# 숫자형의 누적합계 +=\n",
    "# result라는 변수에 우측 값을 더해서 누적합 저장하기\n",
    "result = 0\n",
    "result += x # result = result + x\n",
    "result"
   ]
  },
  {
   "cell_type": "code",
   "execution_count": 54,
   "metadata": {},
   "outputs": [
    {
     "data": {
      "text/plain": [
       "55"
      ]
     },
     "execution_count": 54,
     "metadata": {},
     "output_type": "execute_result"
    }
   ],
   "source": [
    "# (예시) 1 ~ 10 까지의 누적합 : 1 + 2 + 3 + 4 + 5 + 6 + 7 + 8 + 9 + 10\n",
    "result = 0\n",
    "# 반복문을 이용해 result 변수에 1~10까지 더하는 코드를 작성해주세요.\n",
    "for i in range(1, 11):\n",
    "    result += i # result = result + i\n",
    "\n",
    "result"
   ]
  },
  {
   "cell_type": "code",
   "execution_count": 55,
   "metadata": {},
   "outputs": [
    {
     "data": {
      "text/plain": [
       "54"
      ]
     },
     "execution_count": 55,
     "metadata": {},
     "output_type": "execute_result"
    }
   ],
   "source": [
    "# 숫자형의 누적 차\n",
    "result -= 1\n",
    "result"
   ]
  },
  {
   "cell_type": "code",
   "execution_count": 56,
   "metadata": {},
   "outputs": [
    {
     "data": {
      "text/plain": [
       "108"
      ]
     },
     "execution_count": 56,
     "metadata": {},
     "output_type": "execute_result"
    }
   ],
   "source": [
    "# 누적 곱\n",
    "result *= 2\n",
    "result"
   ]
  },
  {
   "cell_type": "markdown",
   "metadata": {},
   "source": [
    "## <<연습문제>>"
   ]
  },
  {
   "cell_type": "markdown",
   "metadata": {},
   "source": [
    "### 1. 홍길동의 시험 성적 평균을 구하세요\n",
    "        |   영어 80점    |    국어 72점    |    수학 90점    |    사회 66점    |\n",
    "        \n",
    "* 변수를 사용해서 과목의 평균을 구해보세요.\n",
    "* 출력 양식 : <br>\n",
    "총합 308 <br>\n",
    "평균 77"
   ]
  },
  {
   "cell_type": "code",
   "execution_count": 65,
   "metadata": {},
   "outputs": [],
   "source": [
    "eng = 80\n",
    "kor = 72\n",
    "math = 90\n",
    "social = 66"
   ]
  },
  {
   "cell_type": "code",
   "execution_count": 66,
   "metadata": {},
   "outputs": [],
   "source": [
    "# 총합\n",
    "total = eng + kor + math + social"
   ]
  },
  {
   "cell_type": "code",
   "execution_count": 67,
   "metadata": {},
   "outputs": [],
   "source": [
    "# 평균\n",
    "avg = total/4"
   ]
  },
  {
   "cell_type": "code",
   "execution_count": 68,
   "metadata": {},
   "outputs": [
    {
     "name": "stdout",
     "output_type": "stream",
     "text": [
      "총합 308\n",
      "평균 77\n"
     ]
    }
   ],
   "source": [
    "# 결과물 출력(print문 사용)\n",
    "print(\"총합\", total)\n",
    "print(\"평균\", int(avg))"
   ]
  },
  {
   "cell_type": "markdown",
   "metadata": {},
   "source": [
    "### 2. 반지름이 7인 원의 넓이를 구해주세요\n",
    "\n",
    "(참고) 원 넓이 = (반지름 ** 2) * 3.14\n",
    "\n",
    "- 반지름과 원 넓이는 모두 변수로 저장해줍니다.\n",
    "- 출력 양식<br>\n",
    "반지름 : 3\n",
    "원 넓이 : 27(소수점 없이 정수로 출력)"
   ]
  },
  {
   "cell_type": "code",
   "execution_count": 70,
   "metadata": {},
   "outputs": [],
   "source": [
    "# 반지름\n",
    "r = 7"
   ]
  },
  {
   "cell_type": "code",
   "execution_count": 71,
   "metadata": {},
   "outputs": [],
   "source": [
    "# 파이\n",
    "p = 3.14"
   ]
  },
  {
   "cell_type": "code",
   "execution_count": 74,
   "metadata": {},
   "outputs": [
    {
     "name": "stdout",
     "output_type": "stream",
     "text": [
      "반지름 7\n",
      "원넓이 153\n"
     ]
    }
   ],
   "source": [
    "print(\"반지름\", r)\n",
    "print(\"원넓이\", int((r ** 2) * p))"
   ]
  },
  {
   "cell_type": "markdown",
   "metadata": {},
   "source": [
    "### 3. 여러분들이 직접 임의의 변수에 원하는 숫자를 집어넣고 그 숫자의 제곱근과 세제곱 값을 출력해주세요."
   ]
  },
  {
   "cell_type": "code",
   "execution_count": 75,
   "metadata": {},
   "outputs": [],
   "source": [
    "# 변수 저장\n",
    "num =15"
   ]
  },
  {
   "cell_type": "code",
   "execution_count": 76,
   "metadata": {},
   "outputs": [
    {
     "name": "stdout",
     "output_type": "stream",
     "text": [
      "num의 제곱근 3.872983346207417\n",
      "num의 세제곱 3375\n"
     ]
    }
   ],
   "source": [
    "print(\"num의 제곱근\", num ** (1/2))\n",
    "print(\"num의 세제곱\", num ** 3)"
   ]
  }
 ],
 "metadata": {
  "kernelspec": {
   "display_name": "Python 3",
   "language": "python",
   "name": "python3"
  },
  "language_info": {
   "codemirror_mode": {
    "name": "ipython",
    "version": 3
   },
   "file_extension": ".py",
   "mimetype": "text/x-python",
   "name": "python",
   "nbconvert_exporter": "python",
   "pygments_lexer": "ipython3",
   "version": "3.7.4"
  }
 },
 "nbformat": 4,
 "nbformat_minor": 2
}
