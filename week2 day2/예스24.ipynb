{
 "cells": [
  {
   "cell_type": "code",
   "execution_count": 1,
   "metadata": {},
   "outputs": [],
   "source": [
    "from selenium import webdriver\n",
    "from bs4 import BeautifulSoup\n",
    "import time\n",
    "import codecs"
   ]
  },
  {
   "cell_type": "code",
   "execution_count": 2,
   "metadata": {},
   "outputs": [],
   "source": [
    "# 크롬드라이버 파일 세팅\n",
    "driver = webdriver.Chrome(\"../chromedriver.exe\")\n",
    "\n",
    "# Yes24 베스트셀러 페이지로 이동\n",
    "driver.get('http://www.yes24.com/24/Category/BestSeller')\n",
    "\n",
    "#소스코드 가져오기\n",
    "source = driver.page_source"
   ]
  },
  {
   "cell_type": "code",
   "execution_count": 97,
   "metadata": {},
   "outputs": [],
   "source": [
    "s1 = BeautifulSoup(source, \"html.parser\")"
   ]
  },
  {
   "cell_type": "code",
   "execution_count": 98,
   "metadata": {},
   "outputs": [],
   "source": [
    "# 문제\n",
    "class_list = []\n",
    "for i in range(1,41) :\n",
    "    class_list += ['num%d' %i]\n",
    "    if i == 19 or 20 :\n",
    "        class_list += ['num%d_line' %i]\n",
    "# 위 리스트에 .append()를 이용하고\n",
    "# for문을 이용해서 num40까지의 클래스를 저장"
   ]
  },
  {
   "cell_type": "code",
   "execution_count": 144,
   "metadata": {},
   "outputs": [],
   "source": [
    "s_books_li = s1.find_all('li', class_= class_list)"
   ]
  },
  {
   "cell_type": "code",
   "execution_count": 173,
   "metadata": {},
   "outputs": [],
   "source": [
    "# result3.txt 파일에 결과 옮겨서 저장.\n",
    "rank = 1\n",
    "path = './result3.txt'\n",
    "f = codecs.open(path, encoding='UTF-8', mode='w')\n",
    "f.write('='*50+'\\r\\n')\n",
    "for items in s_books_li:\n",
    "    p = items.find_all('p')\n",
    "    f.write('%d번째 책 정보\\r\\n' %rank)\n",
    "    f.write(p[2].text+'\\r\\n')\n",
    "    f.write(p[3].text+'\\r\\n')\n",
    "    f.write(p[4].text+'\\r\\n')\n",
    "    f.write('='*50+'\\r\\n')\n",
    "    rank+=1"
   ]
  },
  {
   "cell_type": "code",
   "execution_count": null,
   "metadata": {},
   "outputs": [],
   "source": []
  }
 ],
 "metadata": {
  "kernelspec": {
   "display_name": "Python 3",
   "language": "python",
   "name": "python3"
  },
  "language_info": {
   "codemirror_mode": {
    "name": "ipython",
    "version": 3
   },
   "file_extension": ".py",
   "mimetype": "text/x-python",
   "name": "python",
   "nbconvert_exporter": "python",
   "pygments_lexer": "ipython3",
   "version": "3.7.4"
  }
 },
 "nbformat": 4,
 "nbformat_minor": 2
}
