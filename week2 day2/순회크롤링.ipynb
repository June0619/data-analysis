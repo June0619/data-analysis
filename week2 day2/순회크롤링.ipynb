{
 "cells": [
  {
   "cell_type": "code",
   "execution_count": 40,
   "metadata": {},
   "outputs": [],
   "source": [
    "from selenium import webdriver\n",
    "from bs4 import BeautifulSoup\n",
    "import codecs\n",
    "import time"
   ]
  },
  {
   "cell_type": "code",
   "execution_count": null,
   "metadata": {},
   "outputs": [],
   "source": [
    "driver = webdriver.Chrome(\"../chromedriver.exe\")"
   ]
  },
  {
   "cell_type": "code",
   "execution_count": 68,
   "metadata": {},
   "outputs": [],
   "source": [
    "driver.get('http://www.kyobobook.co.kr/bestSellerNew/bestseller.laf')\n",
    "path = './crawl.txt'\n",
    "f = codecs.open(path, encoding='utf-8', mode='w')    \n",
    "\n",
    "rank = 1\n",
    "flag = 0\n",
    "for count in range(10):\n",
    "    time.sleep(3)\n",
    "    source = driver.page_source\n",
    "    bs = BeautifulSoup(source, 'html.parser')\n",
    "    bs.find_all('div', class_='title')\n",
    "\n",
    "    source = driver.page_source\n",
    "    bs = BeautifulSoup(source, 'html.parser')\n",
    "    b_title = bs.find_all('div', class_='title')\n",
    "    b_author = bs.find_all('div', class_='author')\n",
    "    b_price = bs.find_all('div', class_='price')\n",
    "\n",
    "    for i in range(len(b_author)) :\n",
    "        f.write('%d 위 도서 정보'%rank +'\\r\\n')\n",
    "        f.write(b_title[i+4].text.strip().replace('\\t', '').replace('\\n', '') +'\\r\\n')\n",
    "        f.write(b_author[i].text.strip().replace('\\t', '').replace('\\n', '') +'\\r\\n')\n",
    "        f.write(b_price[i].text.strip().replace('\\t', '').replace('\\n', '') +'\\r\\n')\n",
    "        f.write('='*50+'\\r\\n')\n",
    "        rank+=1\n",
    "       \n",
    "    if flag == 0 :\n",
    "        driver.find_element_by_xpath('//*[@id=\"main_contents\"]/div[4]/div[1]/a').click()\n",
    "        flag+=1\n",
    "    else : \n",
    "        try :\n",
    "            driver.find_element_by_xpath('//*[@id=\"main_contents\"]/div[4]/div[1]/a[2]').click()\n",
    "        except :\n",
    "            f.close();\n",
    "            break\n",
    "print('작업 완료')"
   ]
  },
  {
   "cell_type": "code",
   "execution_count": 103,
   "metadata": {},
   "outputs": [
    {
     "name": "stdout",
     "output_type": "stream",
     "text": [
      "작업 완료\n"
     ]
    }
   ],
   "source": [
    "# 알라딘\n",
    "driver = webdriver.Chrome(\"../chromedriver.exe\")\n",
    "\n",
    "rank = 1\n",
    "flag = 1\n",
    "\n",
    "for count in range(20) :\n",
    "    path = './aladin/%d page.txt' %(count+1)\n",
    "    f = codecs.open(path, encoding='utf-8', mode='w')\n",
    "\n",
    "    driver.get('https://www.aladin.co.kr/shop/common/wbest.aspx?BestType=Bestseller&BranchType=1&CID=0&page=%d&cnt=1000&SortOrder=1' %(count+1))\n",
    "    \n",
    "    time.sleep(3)\n",
    "    \n",
    "    source = driver.page_source\n",
    "    bs = BeautifulSoup(source, 'html.parser')\n",
    "    books = bs.find_all('div', class_='ss_book_box')\n",
    "\n",
    "    for items in books :\n",
    "        f.write('%d번째 도서 정보' %rank +'\\r\\n')\n",
    "        f.write(items.find_all('li')[1].text+'\\r\\n')\n",
    "        f.write(items.find_all('li')[2].text+'\\r\\n')\n",
    "        f.write(items.find_all('li')[3].text+'\\r\\n')\n",
    "        f.write('='*50+'\\r\\n')\n",
    "        rank += 1\n",
    "    f.close()    \n",
    "\n",
    "print('작업 완료')"
   ]
  },
  {
   "cell_type": "code",
   "execution_count": 159,
   "metadata": {},
   "outputs": [
    {
     "name": "stdout",
     "output_type": "stream",
     "text": [
      "작업 완료\n"
     ]
    }
   ],
   "source": [
    "# YES24\n",
    "driver = webdriver.Chrome('../chromedriver.exe')\n",
    "rank = 1\n",
    "\n",
    "for count in range():\n",
    "    \n",
    "    # file input\n",
    "    path = './yes24/%d page.txt' %(count+1)\n",
    "    f = codecs.open(path, encoding='utf-8', mode='w')\n",
    "    \n",
    "    # 페이지 접근\n",
    "    driver.get('http://www.yes24.com/24/category/bestseller?CategoryNumber=001&sumgb=06&fetchSize=40&PageNumber=%d' %(count+1))\n",
    "    time.sleep(3)\n",
    "    \n",
    "    # 파싱\n",
    "    source = driver.page_source\n",
    "    bs = BeautifulSoup(source, 'html.parser')\n",
    "    books = bs.find_all('td', class_='goodsTxtInfo')\n",
    "    \n",
    "    # 도서 정보 정렬\n",
    "    for items in books:\n",
    "        f.write(\"%d 번째 도서 정보\" %rank+'\\r\\n')\n",
    "        f.write(items.find_all('a')[0].text+'\\r\\n')\n",
    "        f.write(items.find_all('div', class_='aupu')[0].text.strip().replace('\\n', '').replace('  ', '') +'\\r\\n')\n",
    "        f.write(items.find_all('p')[1].text+'\\r\\n')\n",
    "        f.write('='*50 +'\\r\\n')\n",
    "        rank+=1\n",
    "    f.close()\n",
    "print('작업 완료')"
   ]
  },
  {
   "cell_type": "code",
   "execution_count": 160,
   "metadata": {},
   "outputs": [
    {
     "name": "stdout",
     "output_type": "stream",
     "text": [
      "김난도,전미영,최지혜,이향은,이준영,김서영,이수진,서유현,권정윤 저| 미래의창| 2019년 10월\r\n",
      "\n"
     ]
    }
   ],
   "source": [
    "print(books[0].find_all('div', class_='aupu')[0].text.strip().replace('\\n', '').replace('  ', '') +'\\r\\n')\n",
    "#replace('  ' , '') -> 공백 두개를 제거하면 훨씬 깔끔하게 표현 가능"
   ]
  }
 ],
 "metadata": {
  "kernelspec": {
   "display_name": "Python 3",
   "language": "python",
   "name": "python3"
  },
  "language_info": {
   "codemirror_mode": {
    "name": "ipython",
    "version": 3
   },
   "file_extension": ".py",
   "mimetype": "text/x-python",
   "name": "python",
   "nbconvert_exporter": "python",
   "pygments_lexer": "ipython3",
   "version": "3.7.4"
  }
 },
 "nbformat": 4,
 "nbformat_minor": 2
}
