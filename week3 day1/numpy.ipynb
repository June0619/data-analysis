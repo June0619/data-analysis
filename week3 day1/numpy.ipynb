{
 "cells": [
  {
   "cell_type": "markdown",
   "metadata": {},
   "source": [
    "# Numpy\n",
    "\n",
    "- Numeriacal Python\n",
    "\n",
    "- 파이썬 머신러닝 패키지인 scikit-learn에서 기본 데이터 구조로 사용되어 Numpy 배열 형태의 데이터를 사용\n",
    "\n",
    "- 파이썬 기반 데이터 분석 환경에서 행렬 및 벡터 연산에 필요한 다양한 함수를 제공\n",
    "\n",
    "- 메모리 소모가 많은 반복문 없이 전체 데이터 배열에 빠른 연산을 처리할 수 있는 표준 수학 함수\n",
    "\n",
    "> 배열 : 동일한 특성(데이터 타입) 및 일정한 규칙을 가지는 여러 개의 요소가 나열되어 있는 데이터 집합\n",
    "\n",
    "- 파이썬 list 객체를 사용할 때 보다 Numpy의 ndarray 객체를 사용하면 연산 속도가 개선되어 더 많은 데이터를 더 빠르게 처리"
   ]
  },
  {
   "cell_type": "code",
   "execution_count": 3,
   "metadata": {},
   "outputs": [],
   "source": [
    "# 라이브러리 가져오기 : Numpy\n",
    "# as 별칭 선언 이후에는 별칭으로 해당 라이브러리의 기능을 쓸 수 있다.\n",
    "# import 라이브러리명 as 별칭\n",
    "\n",
    "import numpy # numpy.ndarray()와 같은 형식으로 명령을 내려야 함.\n",
    "import numpy as np # np.ndarray()와 같은 형식으로 명령을 내려야 함."
   ]
  },
  {
   "cell_type": "code",
   "execution_count": 4,
   "metadata": {},
   "outputs": [
    {
     "data": {
      "text/plain": [
       "'1.16.5'"
      ]
     },
     "execution_count": 4,
     "metadata": {},
     "output_type": "execute_result"
    }
   ],
   "source": [
    "# 라이브러리 버전 확인하기\n",
    "np.__version__"
   ]
  },
  {
   "cell_type": "markdown",
   "metadata": {},
   "source": [
    "## Numpy 배열 : numpy.ndarray\n",
    "\n",
    "- 다차원 배열(1차원, 2차원, 3차원)으로 입체적인 데이터 구조를 구성하고 여러 개의 데이터 방향을 가진다.\n",
    "\n",
    "- 배열 속성 : shape, ndim, dtype 등\n",
    "\n",
    "- 데이터 방향 : axis = 0(행/높이), 1(열/폭), 2(채널/깊이)\n",
    "\n",
    "사진을 집어넣을때는 img태그 를 사용합니다.\n",
    "<img src='img/nparr1.jpg' width='600' height='400' align='left'>"
   ]
  },
  {
   "cell_type": "markdown",
   "metadata": {},
   "source": [
    "### 1. 배열 생성\n",
    "\n",
    "- np.array(data)\n",
    "\n",
    "    - 파이썬 list객체를 전달받아 numpy list로 교환해주는 명령어\n",
    "    \n",
    "    - 배열 속성\n",
    "        - shape : 구조 (행, 열, 차원)\n",
    "        - ndim : 차원\n",
    "        - dtype : 데이터 타입\n",
    "        - size : 요소 개수 = 행 * 열 * 차원\n",
    "        \n",
    "    - 배열 메서드\n",
    "        - astype() : 데이터 타입 변환(문자를 숫자로 라던지...)\n",
    "        \n",
    "    - 파이썬 내장함수를 사용한 속성값\n",
    "        - type() : 객체의 자료형 확인\n",
    "        - len() : 요소 내부의 자료 길이.\n",
    "        \n",
    "    - Numpy 함수를 사용한 속성\n",
    "        - reshape(row, column) : 배열 재배치(1 * 12를 3 * 4 형태로 바꾼다던지...)\n",
    "        \n",
    "    - kind : 데이터 종류에 대한 구분 기호\n",
    "        - b boolean\n",
    "        - i 정수(int)\n",
    "        - u 부호없는 정수(unsigned int, +- 개념 없이 절대값만 존재)\n",
    "        - f 실수\n",
    "        - c 복소 부동소수점\n",
    "        - O 객체\n",
    "        - S 바이트 문자열(ascii 코드, 영문자, 일부특문, 숫자)\n",
    "        - U 유니코드 문자열(한글, 중국어, 태국어, 아랍어 등 영어와 다른 문자)"
   ]
  },
  {
   "cell_type": "code",
   "execution_count": 27,
   "metadata": {},
   "outputs": [],
   "source": [
    "# 파이썬 1차원 리스트를 Numpy로 교환하기\n",
    "tmp = [1,2,3,4,5,6]\n",
    "arr = np.array(tmp)"
   ]
  },
  {
   "cell_type": "code",
   "execution_count": 28,
   "metadata": {},
   "outputs": [
    {
     "name": "stdout",
     "output_type": "stream",
     "text": [
      "<class 'numpy.ndarray'> <class 'list'>\n"
     ]
    }
   ],
   "source": [
    "# 배열 객체의 속성 - 타입(자료형)\n",
    "print(type(arr), type(tmp))"
   ]
  },
  {
   "cell_type": "code",
   "execution_count": 30,
   "metadata": {},
   "outputs": [
    {
     "data": {
      "text/plain": [
       "(6,)"
      ]
     },
     "execution_count": 30,
     "metadata": {},
     "output_type": "execute_result"
    }
   ],
   "source": [
    "# 배열 객체의 속성 - 구조 확인하기 : shape(행(가로), 열(세로), 차원(면))\n",
    "# (정수,) : 정수 갯수의 아이템을 가진 리스트가 배열로 변환 된 결과물\n",
    "arr.shape"
   ]
  },
  {
   "cell_type": "code",
   "execution_count": 31,
   "metadata": {},
   "outputs": [
    {
     "data": {
      "text/plain": [
       "6"
      ]
     },
     "execution_count": 31,
     "metadata": {},
     "output_type": "execute_result"
    }
   ],
   "source": [
    "# 배열 객체의 속성 - 길이 => (n, ) [1D array] : 아이템의 갯수\n",
    "len(arr)"
   ]
  },
  {
   "cell_type": "code",
   "execution_count": 32,
   "metadata": {},
   "outputs": [
    {
     "data": {
      "text/plain": [
       "1"
      ]
     },
     "execution_count": 32,
     "metadata": {},
     "output_type": "execute_result"
    }
   ],
   "source": [
    "# 배열 객체의 속성 - 차원\n",
    "arr.ndim"
   ]
  },
  {
   "cell_type": "code",
   "execution_count": 33,
   "metadata": {},
   "outputs": [
    {
     "data": {
      "text/plain": [
       "6"
      ]
     },
     "execution_count": 33,
     "metadata": {},
     "output_type": "execute_result"
    }
   ],
   "source": [
    "# 배열 요소의 속성 - 요소 개수\n",
    "arr.size"
   ]
  },
  {
   "cell_type": "code",
   "execution_count": 34,
   "metadata": {},
   "outputs": [
    {
     "data": {
      "text/plain": [
       "dtype('int32')"
      ]
     },
     "execution_count": 34,
     "metadata": {},
     "output_type": "execute_result"
    }
   ],
   "source": [
    "# 배열 객체의 속성 - 데이터 타입\n",
    "arr.dtype"
   ]
  },
  {
   "cell_type": "code",
   "execution_count": 71,
   "metadata": {},
   "outputs": [],
   "source": [
    "# 배열 객체의 속성 - 데이터 타입 변환 : astype => 원본 데이터 유지\n",
    "arr2 = arr.astype(float)"
   ]
  },
  {
   "cell_type": "code",
   "execution_count": 72,
   "metadata": {},
   "outputs": [
    {
     "name": "stdout",
     "output_type": "stream",
     "text": [
      "int32 float64\n"
     ]
    }
   ],
   "source": [
    "print(arr.dtype, arr2.dtype)"
   ]
  },
  {
   "cell_type": "code",
   "execution_count": 73,
   "metadata": {},
   "outputs": [
    {
     "data": {
      "text/plain": [
       "array([1., 2., 3., 4., 5., 6.])"
      ]
     },
     "execution_count": 73,
     "metadata": {},
     "output_type": "execute_result"
    }
   ],
   "source": [
    "arr2"
   ]
  },
  {
   "cell_type": "code",
   "execution_count": 57,
   "metadata": {},
   "outputs": [
    {
     "data": {
      "text/plain": [
       "array([[1, 2],\n",
       "       [3, 4],\n",
       "       [5, 6]])"
      ]
     },
     "execution_count": 57,
     "metadata": {},
     "output_type": "execute_result"
    }
   ],
   "source": [
    "# 배열 구조 변환\n",
    "# 기본 배열의 요소 총 갯수(6개)와 변환하려는 구조의 총 갯수(6개)는 일치해야 한다.\n",
    "arr.reshape(3,2) # 2 * 3이므로 가능, reshape(세로길이, 가로길이)"
   ]
  },
  {
   "cell_type": "code",
   "execution_count": 66,
   "metadata": {},
   "outputs": [],
   "source": [
    "# Numpy 객체 정보를 좀 더 편하게 확인하기 위한 사용자 함수 정의\n",
    "# 객체타입, 구조, 차원, 데이터타입, 내부자료\n",
    "# 를 확인하기 위해 정의하는 함수\n",
    "def np_print(arr):\n",
    "    text = '''\n",
    "type : {}\n",
    "shape : {}\n",
    "ndim : {}\n",
    "dtype : {}\n",
    "array data : \\n{}'''.format(type(arr), arr.shape, arr.ndim, arr.dtype, arr)\n",
    "\n",
    "    print(text)"
   ]
  },
  {
   "cell_type": "code",
   "execution_count": 82,
   "metadata": {},
   "outputs": [
    {
     "name": "stdout",
     "output_type": "stream",
     "text": [
      "\n",
      "type : <class 'numpy.ndarray'>\n",
      "shape : (4,)\n",
      "ndim : 1\n",
      "dtype : <U11\n",
      "array data : \n",
      "['1' '2' '3' '4']\n"
     ]
    }
   ],
   "source": [
    "# 리스트 요소 타입이 일관되지 않으면 우선순위에 따라 전체 dtype이 통일된다.\n",
    "# 우선순위 : str(가장 높음) > float > int(가장 낮음) \n",
    "# 서로 다른 타입의 혼합 1 : int + str = str\n",
    "tmp = [1, 2, 3, '4']\n",
    "arr1 = np.array(tmp)\n",
    "np_print(arr1)"
   ]
  },
  {
   "cell_type": "code",
   "execution_count": 84,
   "metadata": {},
   "outputs": [
    {
     "name": "stdout",
     "output_type": "stream",
     "text": [
      "\n",
      "type : <class 'numpy.ndarray'>\n",
      "shape : (4,)\n",
      "ndim : 1\n",
      "dtype : float64\n",
      "array data : \n",
      "[1.  2.  3.3 4. ]\n"
     ]
    }
   ],
   "source": [
    "# 서로 다른 타입 혼합 2 : int + float = float\n",
    "tmp = [1, 2, 3.3, 4]\n",
    "arr = np.array(tmp)\n",
    "np_print(arr)"
   ]
  },
  {
   "cell_type": "code",
   "execution_count": 85,
   "metadata": {},
   "outputs": [
    {
     "name": "stdout",
     "output_type": "stream",
     "text": [
      "\n",
      "type : <class 'numpy.ndarray'>\n",
      "shape : (3,)\n",
      "ndim : 1\n",
      "dtype : <U3\n",
      "array data : \n",
      "['1' '1.2' '0.3']\n"
     ]
    }
   ],
   "source": [
    "# 서로 다른 타입 혼합 3 : float + str = str\n",
    "tmp = ['1', 1.2, 0.3]\n",
    "arr = np.array(tmp)\n",
    "np_print(arr)"
   ]
  },
  {
   "cell_type": "code",
   "execution_count": null,
   "metadata": {},
   "outputs": [],
   "source": []
  }
 ],
 "metadata": {
  "kernelspec": {
   "display_name": "Python 3",
   "language": "python",
   "name": "python3"
  },
  "language_info": {
   "codemirror_mode": {
    "name": "ipython",
    "version": 3
   },
   "file_extension": ".py",
   "mimetype": "text/x-python",
   "name": "python",
   "nbconvert_exporter": "python",
   "pygments_lexer": "ipython3",
   "version": "3.7.4"
  }
 },
 "nbformat": 4,
 "nbformat_minor": 2
}
