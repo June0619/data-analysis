{
 "cells": [
  {
   "cell_type": "code",
   "execution_count": 1,
   "metadata": {},
   "outputs": [],
   "source": [
    "# 라이브러리 임포트\n",
    "from selenium import webdriver\n",
    "from bs4 import BeautifulSoup\n",
    "import time\n",
    "import codecs"
   ]
  },
  {
   "cell_type": "code",
   "execution_count": 2,
   "metadata": {},
   "outputs": [],
   "source": [
    "driver = webdriver.Chrome(\"../chromedriver.exe\")\n",
    "base = 'https://sports.news.naver.com'\n",
    "link_list = []\n",
    "page_size = 1\n",
    "\n",
    "count = 1\n",
    "\n",
    "\n",
    "for count in range(5):\n",
    "    date = \"&date=2019%s\" %(1130-count)\n",
    "    num = 1\n",
    "    while True :\n",
    "        page = \"&page=%d\" %num\n",
    "        driver.get(\"https://news.naver.com/main/list.nhn?mode=LS2D&mid=shm&sid1=105&sid2=229\" + date + page)\n",
    "\n",
    "        source = driver.page_source\n",
    "        ps = BeautifulSoup(source, \"html.parser\")\n",
    "        page_size = len(ps.find_all(\"div\", class_=\"paging\")[0].find_all(\"a\")) + 1\n",
    "        for i in ps.find_all(\"div\", class_=\"list_body newsflash_body\")[0].find_all(\"dt\", class_=\"photo\") :\n",
    "            link_list.append(str(i).split('href=\"')[1].split('\"')[0].replace('amp;', ''))\n",
    "        if num==page_size :\n",
    "            break\n",
    "        else :\n",
    "            num +=1\n",
    "\n",
    "driver.close()"
   ]
  },
  {
   "cell_type": "code",
   "execution_count": 7,
   "metadata": {},
   "outputs": [],
   "source": [
    "driver = webdriver.Chrome('../chromedriver.exe')\n",
    "f = codecs.open('./news_list/news.txt' , encoding='utf-8', mode='a')\n",
    "i=1\n",
    "for path in link_list :\n",
    "    driver.get(path)\n",
    "    time.sleep(1)\n",
    "    source = driver.page_source\n",
    "    \n",
    "    i+=1\n",
    "    \n",
    "    ps = BeautifulSoup(source, \"html.parser\")\n",
    "    \n",
    "    f.write(ps.find_all(\"div\", id=\"articleBodyContents\")[0].text.replace('''// flash 오류를 우회하기 위한 함수 추가\n",
    "function _flash_removeCallback() {}''', '').strip())\n",
    "    f.write('\\r\\n'+'='*50+'\\r\\n')\n",
    "f.close()"
   ]
  },
  {
   "cell_type": "code",
   "execution_count": null,
   "metadata": {},
   "outputs": [],
   "source": []
  }
 ],
 "metadata": {
  "kernelspec": {
   "display_name": "Python 3",
   "language": "python",
   "name": "python3"
  },
  "language_info": {
   "codemirror_mode": {
    "name": "ipython",
    "version": 3
   },
   "file_extension": ".py",
   "mimetype": "text/x-python",
   "name": "python",
   "nbconvert_exporter": "python",
   "pygments_lexer": "ipython3",
   "version": "3.7.4"
  }
 },
 "nbformat": 4,
 "nbformat_minor": 2
}
